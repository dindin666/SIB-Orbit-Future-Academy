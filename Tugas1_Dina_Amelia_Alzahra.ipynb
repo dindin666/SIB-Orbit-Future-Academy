{
  "nbformat": 4,
  "nbformat_minor": 0,
  "metadata": {
    "colab": {
      "name": "Tugas1_Dina Amelia Alzahra.ipynb",
      "provenance": [],
      "collapsed_sections": [],
      "authorship_tag": "ABX9TyNHADeGTDQFkZrF7x4Z4XjC",
      "include_colab_link": true
    },
    "kernelspec": {
      "name": "python3",
      "display_name": "Python 3"
    },
    "language_info": {
      "name": "python"
    }
  },
  "cells": [
    {
      "cell_type": "markdown",
      "metadata": {
        "id": "view-in-github",
        "colab_type": "text"
      },
      "source": [
        "<a href=\"https://colab.research.google.com/github/dindin666/SIB-Orbit-Future-Academy/blob/main/Tugas1_Dina_Amelia_Alzahra.ipynb\" target=\"_parent\"><img src=\"https://colab.research.google.com/assets/colab-badge.svg\" alt=\"Open In Colab\"/></a>"
      ]
    },
    {
      "cell_type": "markdown",
      "source": [
        ""
      ],
      "metadata": {
        "id": "w4J9XeJxs5LH"
      }
    },
    {
      "cell_type": "markdown",
      "source": [
        "#<center><b>HALO!</b></center>#\n",
        "#<center><b>SAYA DINA</b></center>#\n"
      ],
      "metadata": {
        "id": "oIxKMLI7cB6w"
      }
    },
    {
      "cell_type": "markdown",
      "source": [
        "#####<b>PROFIL SINGKAT</b>#####\n",
        "Saya merupakan mahasiswa jurusan Teknik Informatika yang tertarik dan ingin mempelajari lebih lanjut mengenai Artificial Intelligence, terutama Data Science."
      ],
      "metadata": {
        "id": "KtrbQQ9YxOUc"
      }
    },
    {
      "cell_type": "markdown",
      "source": [
        "#####<b>IDENTITAS DIRI</b>#####"
      ],
      "metadata": {
        "id": "65pJpkp8xMIq"
      }
    },
    {
      "cell_type": "code",
      "source": [
        "#identitas diri\n",
        "print(\"Nama          : Dina Amelia Alzahra\")\n",
        "print(\"Jenis Kelamin : Perempuan\")\n",
        "print(\"Alamat        : Bandung, Jawa Barat\")\n",
        "print(\"Universitas   : Universitas Singaperbangsa Karawang\")\n",
        "print(\"Pendidikan    : S1 Teknik Informatika\")\n"
      ],
      "metadata": {
        "colab": {
          "base_uri": "https://localhost:8080/"
        },
        "id": "FbAP5Jg_sr2G",
        "outputId": "14835f14-12e3-4a8a-bc17-83efe38a71b5"
      },
      "execution_count": null,
      "outputs": [
        {
          "output_type": "stream",
          "name": "stdout",
          "text": [
            "Nama          : Dina Amelia Alzahra\n",
            "Jenis Kelamin : Perempuan\n",
            "Alamat        : Bandung, Jawa Barat\n",
            "Universitas   : Universitas Singaperbangsa Karawang\n",
            "Pendidikan    : S1 Teknik Informatika\n"
          ]
        }
      ]
    },
    {
      "cell_type": "markdown",
      "source": [
        "#####<b>KUTIPAN FAVORIT</b>#####\n",
        "\"Happiness can be found event in the darkest of times if one only remembers to turn on the light\" <i><b>-Albus Dumbledore-</b><i>"
      ],
      "metadata": {
        "id": "4v6xHX2zx4PN"
      }
    }
  ]
}