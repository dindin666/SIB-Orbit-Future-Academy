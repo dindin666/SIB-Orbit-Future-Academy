{
  "nbformat": 4,
  "nbformat_minor": 0,
  "metadata": {
    "colab": {
      "name": "Exercise 2_Dina Amelia Alzahra.ipynb",
      "provenance": [],
      "collapsed_sections": [],
      "authorship_tag": "ABX9TyP8F8ayrSCKabBCMyOH1NT5",
      "include_colab_link": true
    },
    "kernelspec": {
      "name": "python3",
      "display_name": "Python 3"
    },
    "language_info": {
      "name": "python"
    }
  },
  "cells": [
    {
      "cell_type": "markdown",
      "metadata": {
        "id": "view-in-github",
        "colab_type": "text"
      },
      "source": [
        "<a href=\"https://colab.research.google.com/github/dindin666/SIB-Orbit-Future-Academy/blob/main/Exercise_2_Dina_Amelia_Alzahra.ipynb\" target=\"_parent\"><img src=\"https://colab.research.google.com/assets/colab-badge.svg\" alt=\"Open In Colab\"/></a>"
      ]
    },
    {
      "cell_type": "markdown",
      "source": [
        "Nama : Dina Amelia Alzahra <br>\n",
        "Program Studi : Teknik Informatika <br>\n",
        "Universitas : Universitas Singaperbangsa Karawang"
      ],
      "metadata": {
        "id": "4yhSuTeAzYus"
      }
    },
    {
      "cell_type": "markdown",
      "source": [
        "##Bangun Datar##"
      ],
      "metadata": {
        "id": "t8I42dis2Bu5"
      }
    },
    {
      "cell_type": "markdown",
      "source": [
        "Persegi"
      ],
      "metadata": {
        "id": "bpteZQZXqJNu"
      }
    },
    {
      "cell_type": "code",
      "execution_count": null,
      "metadata": {
        "colab": {
          "base_uri": "https://localhost:8080/"
        },
        "id": "VC2DgfMSqEQv",
        "outputId": "dc484107-2da8-4a8e-de34-0f0980b7d050"
      },
      "outputs": [
        {
          "output_type": "stream",
          "name": "stdout",
          "text": [
            "Sisi :2\n",
            "Luas Persegi : 4\n",
            "Keliling Persegi : 8\n"
          ]
        }
      ],
      "source": [
        "#input sisi\n",
        "s = int(input(\"Sisi :\"))\n",
        "\n",
        "#rumus menghitung luas persegi\n",
        "luas = s**2\n",
        "\n",
        "#rumus menghitung keliling persegi\n",
        "keliling = 4 * s\n",
        "\n",
        "print(\"Luas Persegi :\", luas)\n",
        "print(\"Keliling Persegi :\", keliling)"
      ]
    },
    {
      "cell_type": "markdown",
      "source": [
        "Persegi Panjang"
      ],
      "metadata": {
        "id": "-82KFtGHrzN1"
      }
    },
    {
      "cell_type": "code",
      "source": [
        "#input panjang dan lebar\n",
        "panjang = int(input(\"Masukkan panjang :\"))\n",
        "lebar = int(input(\"Masukkan lebar :\"))\n",
        "\n",
        "#rumus menghitung luas persegi panjang\n",
        "luas = panjang*lebar\n",
        "\n",
        "#rumus menghitung keliling persegi panjang\n",
        "keliling = 2* (panjang+lebar)\n",
        "\n",
        "print(\"Luas Persegi Panjang =\", luas)\n",
        "print(\"Keliling Persegi Panjang =\", keliling)"
      ],
      "metadata": {
        "colab": {
          "base_uri": "https://localhost:8080/"
        },
        "id": "dexHvFNjr4un",
        "outputId": "10ae0f94-3cac-47e6-d384-9c93bb6b61b6"
      },
      "execution_count": null,
      "outputs": [
        {
          "output_type": "stream",
          "name": "stdout",
          "text": [
            "Masukkan panjang :6\n",
            "Masukkan lebar :3\n",
            "Luas Persegi Panjang 18\n",
            "Keliling Persegi Panjang 18\n"
          ]
        }
      ]
    },
    {
      "cell_type": "markdown",
      "source": [
        "Jajar Genjang "
      ],
      "metadata": {
        "id": "eU1xfYD9s1Nk"
      }
    },
    {
      "cell_type": "code",
      "source": [
        "alas = int(input(\"Alas :\"))\n",
        "sisim = int(input(\"Sisi Miring :\"))\n",
        "tinggi = int(input(\"Tinggi :\"))\n",
        "\n",
        "luas = alas*tinggi\n",
        "keliling = 2*(alas*sisim)\n",
        "\n",
        "print(\"Luas Jajar Genjang :\", luas)\n",
        "print(\"Keliling Jajar Genjang :\", keliling)"
      ],
      "metadata": {
        "colab": {
          "base_uri": "https://localhost:8080/"
        },
        "id": "CUNc_-gVs6oM",
        "outputId": "62a86969-4e1b-4b2a-974c-b11c848947a4"
      },
      "execution_count": null,
      "outputs": [
        {
          "output_type": "stream",
          "name": "stdout",
          "text": [
            "Alas :2\n",
            "Sisi Miring :2\n",
            "Tinggi :4\n",
            "Luas Jajar Genjang : 8\n",
            "Keliling Jajar Genjang : 8\n"
          ]
        }
      ]
    },
    {
      "cell_type": "markdown",
      "source": [
        "Trapesium"
      ],
      "metadata": {
        "id": "4VLx2LFAts-h"
      }
    },
    {
      "cell_type": "code",
      "source": [
        "a = int(input(\"Sisi Sejajar a:\"))\n",
        "b = int(input(\"Sisi Sejajar b:\"))\n",
        "c = int(input(\"Sisi Miring c:\"))\n",
        "d = int(input(\"Sisi Miring d:\"))\n",
        "t = int(input(\"Tinggi:\"))\n",
        "\n",
        "luas = (((a+b)/2)*t)\n",
        "keliling = a+b+c+d\n",
        "\n",
        "print(\"Luas Trapesium :\", luas)\n",
        "print(\"Keliling Trapesium :\", keliling)\n"
      ],
      "metadata": {
        "colab": {
          "base_uri": "https://localhost:8080/"
        },
        "id": "P9ebA3xetws5",
        "outputId": "fea4e589-e3f8-4aa3-a4dc-539d76b7e5c6"
      },
      "execution_count": null,
      "outputs": [
        {
          "output_type": "stream",
          "name": "stdout",
          "text": [
            "Sisi Sejajar a:2\n",
            "Sisi Sejajar b:4\n",
            "Sisi Miring c:2\n",
            "Sisi Miring d:3\n",
            "Tinggi:4\n",
            "Luas Trapesium : 12.0\n",
            "Keliling Trapesium : 11\n"
          ]
        }
      ]
    },
    {
      "cell_type": "markdown",
      "source": [
        "Segitiga"
      ],
      "metadata": {
        "id": "sSUH7ZsDvz2f"
      }
    },
    {
      "cell_type": "code",
      "source": [
        "t = int(input(\"Tinggi :\"))\n",
        "a = int(input(\"Sisi a:\"))\n",
        "b = int(input(\"Sisi b:\"))\n",
        "c = int(input(\"Sisi c:\"))\n",
        "\n",
        "\n",
        "luas = (a*t)/2\n",
        "keliling = a+b+c\n",
        "\n",
        "print(\"Luas Segitiga =\", luas)\n",
        "print('Keliling Segitiga =', keliling)"
      ],
      "metadata": {
        "colab": {
          "base_uri": "https://localhost:8080/"
        },
        "id": "5abx0asvv63m",
        "outputId": "e9bcac02-4474-492e-b146-27c4d9da653f"
      },
      "execution_count": null,
      "outputs": [
        {
          "output_type": "stream",
          "name": "stdout",
          "text": [
            "Tinggi :4\n",
            "Sisi a:2\n",
            "Sisi b:2\n",
            "Sisi c:2\n",
            "Luas Segitiga = 4.0\n",
            "Keliling Segitiga = 6\n"
          ]
        }
      ]
    },
    {
      "cell_type": "markdown",
      "source": [
        "Layang-layang"
      ],
      "metadata": {
        "id": "0H_rfjnJ0KT3"
      }
    },
    {
      "cell_type": "code",
      "source": [
        "d1 = int(input(\"Diagonal 1 :\"))\n",
        "d2 = int(input(\"Diagonal 2 :\"))\n",
        "a = int(input(\"Sisi 1 :\"))\n",
        "b = int(input(\"Sisi 2 :\"))\n",
        "\n",
        "luas = (d1*d2)/2\n",
        "keliling = 2*(a+b)\n",
        "\n",
        "print(\"Luas Layang-layang =\", luas)\n",
        "print(\"Keliling Layang-layang =\", keliling)\n"
      ],
      "metadata": {
        "colab": {
          "base_uri": "https://localhost:8080/"
        },
        "id": "VTTeE6x20POP",
        "outputId": "8db9f57b-50c6-4b24-aa2a-e705c54248df"
      },
      "execution_count": null,
      "outputs": [
        {
          "output_type": "stream",
          "name": "stdout",
          "text": [
            "Diagonal 1 :2\n",
            "Diagonal 2 :4\n",
            "Sisi 1 :5\n",
            "Sisi 2 :7\n",
            "Luas Layang-layang = 4.0\n",
            "Keliling Layang-layang = 24\n"
          ]
        }
      ]
    },
    {
      "cell_type": "markdown",
      "source": [
        "Belah Ketupat"
      ],
      "metadata": {
        "id": "A8DAFATj1WGf"
      }
    },
    {
      "cell_type": "code",
      "source": [
        "d1 = int(input(\"Diagonal 1 :\"))\n",
        "d2 = int(input(\"Diagonal 2 :\"))\n",
        "s  = int(input(\"Sisi :\"))\n",
        "\n",
        "luas = luas = (d1*d2)/2\n",
        "keliling = 4*s\n",
        "\n",
        "print(\"Luas Belah Ketupat =\", luas)\n",
        "print(\"Keliling Belah Ketupat =\", keliling)\n"
      ],
      "metadata": {
        "colab": {
          "base_uri": "https://localhost:8080/"
        },
        "id": "nFbOcami1YQL",
        "outputId": "aae34728-7354-4869-eaa3-1c5d86b920b5"
      },
      "execution_count": null,
      "outputs": [
        {
          "output_type": "stream",
          "name": "stdout",
          "text": [
            "Diagonal 1 :4\n",
            "Diagonal 2 :4\n",
            "Sisi :5\n",
            "Luas Belah Ketupat = 8.0\n",
            "Keliling Belah Ketupat = 20\n"
          ]
        }
      ]
    },
    {
      "cell_type": "markdown",
      "source": [
        "Lingkaran"
      ],
      "metadata": {
        "id": "iEPLujU914b7"
      }
    },
    {
      "cell_type": "code",
      "source": [
        "  phi = 3.14\n",
        "  r = float(input(\"Masukkan Jari-jari :\"))\n",
        "\n",
        "  luas = phi*r*r\n",
        "  keliling = 2*phi*r\n",
        "\n",
        "\n",
        "  print(\"Keliling Lingkaran =\", keliling)\n",
        "  print(\"Luas Lingkaran =\", luas)\n",
        "\n",
        "\n"
      ],
      "metadata": {
        "colab": {
          "base_uri": "https://localhost:8080/"
        },
        "id": "1QeqmsrW17LO",
        "outputId": "40522f22-ace7-4d23-89c2-bb2d03d6b7f7"
      },
      "execution_count": null,
      "outputs": [
        {
          "output_type": "stream",
          "name": "stdout",
          "text": [
            "Masukkan Jari-jari :2\n",
            "Keliling Lingkaran = 12.56\n",
            "Luas Lingkaran = 12.56\n"
          ]
        }
      ]
    },
    {
      "cell_type": "markdown",
      "source": [
        "##Bangun Ruang##"
      ],
      "metadata": {
        "id": "ApK43pqvwvgI"
      }
    },
    {
      "cell_type": "markdown",
      "source": [
        "Kubus"
      ],
      "metadata": {
        "id": "Ck3CmvkV3PO7"
      }
    },
    {
      "cell_type": "code",
      "source": [
        "r = int(input(\"Panjang Rusuk :\"))\n",
        "\n",
        "Luas = 6*r*r\n",
        "Volume = r*r*r\n",
        "\n",
        "print(\"Luas Kubus = \", Luas)\n",
        "print(\"volume Kubus =\", Volume)"
      ],
      "metadata": {
        "id": "kHFLwE0s3R-9",
        "colab": {
          "base_uri": "https://localhost:8080/"
        },
        "outputId": "812aca3a-4641-4740-fb73-2a519c552fcd"
      },
      "execution_count": null,
      "outputs": [
        {
          "output_type": "stream",
          "name": "stdout",
          "text": [
            "Panjang Rusuk :4\n",
            "Luas Kubus =  96\n",
            "volume Kubus = 64\n"
          ]
        }
      ]
    },
    {
      "cell_type": "markdown",
      "source": [
        "Balok"
      ],
      "metadata": {
        "id": "zpztrnF9sPwk"
      }
    },
    {
      "cell_type": "code",
      "source": [
        "p = int(input(\"Panjang Balok :\"))\n",
        "l = int(input(\"Luas Balok :\"))\n",
        "t = int(input(\"Tinggi Balok :\"))\n",
        "\n",
        "Luas = 2*(p*l + p*t + l*t)\n",
        "Volume = p*l*t\n",
        "\n",
        "print(\"Luas Balok = \", Luas)\n",
        "print(\"volume Balok =\", Volume)"
      ],
      "metadata": {
        "colab": {
          "base_uri": "https://localhost:8080/"
        },
        "id": "m3Y8uhTnsR1t",
        "outputId": "20773e33-41ac-4eee-8405-99f5b9103c9c"
      },
      "execution_count": null,
      "outputs": [
        {
          "output_type": "stream",
          "name": "stdout",
          "text": [
            "Panjang Balok :8\n",
            "Luas Balok :4\n",
            "Tinggi Balok :2\n",
            "Luas Balok =  112\n",
            "volume Balok = 64\n"
          ]
        }
      ]
    },
    {
      "cell_type": "markdown",
      "source": [
        "Tabung"
      ],
      "metadata": {
        "id": "3T22Q5afueHM"
      }
    },
    {
      "cell_type": "code",
      "source": [
        "r = float(input(\"Masukkan jari-jari :\"))\n",
        "t = float(input(\"Masukkan tinggi :\"))\n",
        "pi = 22/7\n",
        "\n",
        "Luas = 2*pi*r*r*t\n",
        "Volume = 2*pi*r*(r*t)\n",
        "\n",
        "print(\"Luas Tabung = \", Luas)\n",
        "print(\"volume Tabung =\", Volume)"
      ],
      "metadata": {
        "colab": {
          "base_uri": "https://localhost:8080/"
        },
        "id": "T6ljgE3fuiVX",
        "outputId": "9979dca8-de2a-4956-f699-e561d0744632"
      },
      "execution_count": null,
      "outputs": [
        {
          "output_type": "stream",
          "name": "stdout",
          "text": [
            "Masukkan jari-jari :1\n",
            "Masukkan tinggi :3\n",
            "Luas Tabung =  18.857142857142858\n",
            "volume Tabung = 18.857142857142858\n"
          ]
        }
      ]
    },
    {
      "cell_type": "markdown",
      "source": [
        "Prisma"
      ],
      "metadata": {
        "id": "grqDxbq-xj4m"
      }
    },
    {
      "cell_type": "code",
      "source": [
        "a = int(input(\"Masukkan Alas :\"))\n",
        "la = int(input(\"Masukkan Luas Alas :\"))\n",
        "ka = int(input(\"Masukkan Keliling Alas:\"))\n",
        "t = int(input(\"Masukkan Tinggi :\"))\n",
        "\n",
        "Luas = (2*la) + (ka*t)\n",
        "Volume = la*t\n",
        "\n",
        "print(\"Luas Prisma =\", Luas)\n",
        "print(\"Volume Prisma =\", Volume)"
      ],
      "metadata": {
        "colab": {
          "base_uri": "https://localhost:8080/"
        },
        "id": "PzR6X8Olxp2Q",
        "outputId": "073acdc8-2ffb-4d66-ef62-26fd167bfadc"
      },
      "execution_count": null,
      "outputs": [
        {
          "output_type": "stream",
          "name": "stdout",
          "text": [
            "Masukkan Alas :3\n",
            "Masukkan Luas Alas :7\n",
            "Masukkan Keliling Alas:16\n",
            "Masukkan Tinggi :9\n",
            "Luas Prisma = 158\n",
            "Volume Prisma = 63\n"
          ]
        }
      ]
    },
    {
      "cell_type": "markdown",
      "source": [
        "Kerucut"
      ],
      "metadata": {
        "id": "MvBiT_MmzGAl"
      }
    },
    {
      "cell_type": "code",
      "source": [
        "phi = 3.14\n",
        "r = float(input(\"Masukkan Jari-jari :\"))\n",
        "s = float(input(\"Masukkan Garis Pelukis :\"))\n",
        "t = float(input(\"Masukkan Tinggi :\"))\n",
        "\n",
        "Luas = phi*r*(r+s)\n",
        "Volume = (phi*r*r*t)/2\n",
        "\n",
        "print(\"Luas Kerucut =\", Luas)\n",
        "print(\"Volume kerucut =\", Volume)"
      ],
      "metadata": {
        "colab": {
          "base_uri": "https://localhost:8080/"
        },
        "id": "yCY-uGnqzNoL",
        "outputId": "304aaae1-4d76-416a-bd11-8afafc510124"
      },
      "execution_count": null,
      "outputs": [
        {
          "output_type": "stream",
          "name": "stdout",
          "text": [
            "Masukkan Jari-jari :2\n",
            "Masukkan Garis Pelukis :4\n",
            "Masukkan Tinggi :7\n",
            "Luas Kerucut = 37.68\n",
            "Volume kerucut = 43.96\n"
          ]
        }
      ]
    },
    {
      "cell_type": "markdown",
      "source": [
        "Bola"
      ],
      "metadata": {
        "id": "1dXe30Hr0A7b"
      }
    },
    {
      "cell_type": "code",
      "source": [
        "phi =3.14\n",
        "r = float(input(\"Masukkan Jari-jari :\"))\n",
        "\n",
        "Luas = 4*phi*r*r\n",
        "Volume = 4/3*phi*r*r*r\n",
        "\n",
        "print(\"Luas Bola =\", Luas)\n",
        "print(\"Volume Bola =\", Volume)"
      ],
      "metadata": {
        "colab": {
          "base_uri": "https://localhost:8080/"
        },
        "id": "TgHfBXzY0EGU",
        "outputId": "7deef8f6-a512-48ad-dbd1-83ae0417a2c2"
      },
      "execution_count": null,
      "outputs": [
        {
          "output_type": "stream",
          "name": "stdout",
          "text": [
            "Masukkan Jari-jari :3\n",
            "Luas Bola = 113.03999999999999\n",
            "Volume Kerucut = 113.03999999999998\n"
          ]
        }
      ]
    },
    {
      "cell_type": "markdown",
      "source": [
        "Limas"
      ],
      "metadata": {
        "id": "-1-WDBRy0riG"
      }
    },
    {
      "cell_type": "code",
      "source": [
        "a = int(input(\"Masukkan Alas :\"))\n",
        "la = int(input(\"Masukkan Luas Alas :\"))\n",
        "t = int(input(\"Masukkan Tinggi :\"))\n",
        "tlsm = int(input(\"Masukkan Total Luas Sisi Miring :\"))\n",
        "\n",
        "Luas = la*tlsm\n",
        "Volume = 1/2*la*t\n",
        "\n",
        "print(\"Luas Limas =\", Luas)\n",
        "print(\"Volume Limas =\", Volume)"
      ],
      "metadata": {
        "colab": {
          "base_uri": "https://localhost:8080/"
        },
        "id": "NyQ2NBGG0tKD",
        "outputId": "21506407-03ad-4e98-cd70-8cee1ce01ddc"
      },
      "execution_count": null,
      "outputs": [
        {
          "output_type": "stream",
          "name": "stdout",
          "text": [
            "Masukkan Alas :4\n",
            "Masukkan Luas Alas :13\n",
            "Masukkan Tinggi :9\n",
            "Masukkan Total Luas Sisi Miring :15\n",
            "Luas Limas = 195\n",
            "Volume Limas = 58.5\n"
          ]
        }
      ]
    }
  ]
}